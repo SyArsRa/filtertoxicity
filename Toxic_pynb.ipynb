{
  "nbformat": 4,
  "nbformat_minor": 0,
  "metadata": {
    "colab": {
      "provenance": [],
      "collapsed_sections": [],
      "authorship_tag": "ABX9TyMOHIdvX2d0v8xT8xcE4GzT",
      "include_colab_link": true
    },
    "kernelspec": {
      "name": "python3",
      "display_name": "Python 3"
    },
    "language_info": {
      "name": "python"
    },
    "accelerator": "GPU",
    "gpuClass": "standard"
  },
  "cells": [
    {
      "cell_type": "markdown",
      "metadata": {
        "id": "view-in-github",
        "colab_type": "text"
      },
      "source": [
        "<a href=\"https://colab.research.google.com/github/SyArsRa/filtertoxicity/blob/main/Toxic_pynb.ipynb\" target=\"_parent\"><img src=\"https://colab.research.google.com/assets/colab-badge.svg\" alt=\"Open In Colab\"/></a>"
      ]
    },
    {
      "cell_type": "code",
      "execution_count": null,
      "metadata": {
        "colab": {
          "base_uri": "https://localhost:8080/"
        },
        "id": "WRz3sVSFvRxn",
        "outputId": "d2760d17-7939-4e25-a0f7-6e8f5720b0cb"
      },
      "outputs": [
        {
          "output_type": "stream",
          "name": "stdout",
          "text": [
            "Colab only includes TensorFlow 2.x; %tensorflow_version has no effect.\n"
          ]
        }
      ],
      "source": [
        "%tensorflow_version 2.x \n",
        "from keras.preprocessing import sequence\n",
        "from keras.preprocessing.text import Tokenizer\n",
        "import keras\n",
        "import tensorflow as tf\n",
        "import os\n",
        "import numpy as np\n",
        "import pandas as pd\n",
        "import tensorflow_datasets as tfds\n",
        "import collections\n",
        "import string\n",
        "from keras.models import load_model "
      ]
    },
    {
      "cell_type": "code",
      "source": [
        "import spacy\n",
        "en = spacy.load('en_core_web_sm')\n",
        "stopwords = en.Defaults.stop_words"
      ],
      "metadata": {
        "id": "YEacULh1SK4Q"
      },
      "execution_count": null,
      "outputs": []
    },
    {
      "cell_type": "code",
      "source": [
        "!gdown --folder https://drive.google.com/drive/folders/1tgiWM5xd4DSjkALSWVsYHfs3BXxiDVQp?usp=sharing\n"
      ],
      "metadata": {
        "colab": {
          "base_uri": "https://localhost:8080/"
        },
        "id": "obU1MMQ_viE7",
        "outputId": "e7ddc49f-204a-4b2a-9f4f-63799a2b5580"
      },
      "execution_count": null,
      "outputs": [
        {
          "output_type": "stream",
          "name": "stdout",
          "text": [
            "Retrieving folder list\n",
            "Processing file 1KJROHYLOKSerziXhhKkcsxw-6mqTA2ow test_labels.csv\n",
            "Processing file 13lKICEyjAE6QgUcybsI-oiVOeqCLN-2x test.csv\n",
            "Processing file 1RB_odUNCo0YM6visFsvRJD3DQNTj-TTc train.csv\n",
            "Retrieving folder list completed\n",
            "Building directory structure\n",
            "Building directory structure completed\n",
            "Downloading...\n",
            "From: https://drive.google.com/uc?id=1KJROHYLOKSerziXhhKkcsxw-6mqTA2ow\n",
            "To: /content/data/test_labels.csv\n",
            "100% 4.59M/4.59M [00:00<00:00, 31.9MB/s]\n",
            "Downloading...\n",
            "From: https://drive.google.com/uc?id=13lKICEyjAE6QgUcybsI-oiVOeqCLN-2x\n",
            "To: /content/data/test.csv\n",
            "100% 60.4M/60.4M [00:00<00:00, 183MB/s]\n",
            "Downloading...\n",
            "From: https://drive.google.com/uc?id=1RB_odUNCo0YM6visFsvRJD3DQNTj-TTc\n",
            "To: /content/data/train.csv\n",
            "100% 68.8M/68.8M [00:00<00:00, 158MB/s]\n",
            "Download completed\n"
          ]
        }
      ]
    },
    {
      "cell_type": "code",
      "source": [
        "train = pd.read_csv('/content/data/train.csv')\n",
        "test = pd.read_csv('/content/data/test.csv')\n",
        "labels = pd.read_csv('/content/data/test_labels.csv') \n",
        "MAXLEN = 200"
      ],
      "metadata": {
        "id": "OOMmAvMG9m7h"
      },
      "execution_count": null,
      "outputs": []
    },
    {
      "cell_type": "code",
      "source": [
        "def filterData(words):\n",
        "  words = [word.lower() for word in words if word not in stopwords and word.isalpha()]\n",
        "  return words\n"
      ],
      "metadata": {
        "id": "XcAMclZ1FAUa"
      },
      "execution_count": null,
      "outputs": []
    },
    {
      "cell_type": "code",
      "source": [
        "def removeSpecialChars(text):\n",
        "  for x in string.punctuation+\"0123456789\":\n",
        "    text = text.replace(x,'')\n",
        "  return text\n",
        "    "
      ],
      "metadata": {
        "id": "ZKJu8Hr-_Cw-"
      },
      "execution_count": null,
      "outputs": []
    },
    {
      "cell_type": "code",
      "source": [
        "def process(data):\n",
        "  for index , text in enumerate(data):\n",
        "    text = removeSpecialChars(text)\n",
        "    data[index] = \" \".join(filterData(text.split()))\n",
        "  return data"
      ],
      "metadata": {
        "id": "1llLFFOHQzFf"
      },
      "execution_count": null,
      "outputs": []
    },
    {
      "cell_type": "code",
      "source": [
        "train['comment_text'] = process(train['comment_text'])"
      ],
      "metadata": {
        "colab": {
          "base_uri": "https://localhost:8080/"
        },
        "id": "lsiLtRvgJq2w",
        "outputId": "31d5080e-d487-469f-e9c1-208e082443d6"
      },
      "execution_count": null,
      "outputs": [
        {
          "output_type": "stream",
          "name": "stderr",
          "text": [
            "/usr/local/lib/python3.7/dist-packages/ipykernel_launcher.py:4: SettingWithCopyWarning: \n",
            "A value is trying to be set on a copy of a slice from a DataFrame\n",
            "\n",
            "See the caveats in the documentation: https://pandas.pydata.org/pandas-docs/stable/user_guide/indexing.html#returning-a-view-versus-a-copy\n",
            "  after removing the cwd from sys.path.\n"
          ]
        }
      ]
    },
    {
      "cell_type": "code",
      "source": [
        "tok = Tokenizer(num_words=1000, oov_token='UNK')\n",
        "tok.fit_on_texts(train['comment_text'])\n",
        "trainValue = tok.texts_to_sequences(train['comment_text'])"
      ],
      "metadata": {
        "id": "zrgknN1YCqSK"
      },
      "execution_count": null,
      "outputs": []
    },
    {
      "cell_type": "code",
      "source": [
        "VOCABSIZE = len(tok.word_index) + 1"
      ],
      "metadata": {
        "id": "3h2IrmmPRkCh"
      },
      "execution_count": null,
      "outputs": []
    },
    {
      "cell_type": "code",
      "metadata": {
        "id": "Z3qQ83sNeog6"
      },
      "source": [
        "trainValue = sequence.pad_sequences(trainValue, MAXLEN)"
      ],
      "execution_count": null,
      "outputs": []
    },
    {
      "cell_type": "code",
      "source": [
        "model = tf.keras.Sequential([\n",
        "  tf.keras.layers.Embedding(VOCABSIZE, 32),\n",
        "  tf.keras.layers.LSTM(32),\n",
        "  tf.keras.layers.Dense(12, activation=\"relu\"),\n",
        "  tf.keras.layers.Dense(6, activation=\"sigmoid\")\n",
        "])"
      ],
      "metadata": {
        "id": "9rjVcoaFPtji"
      },
      "execution_count": null,
      "outputs": []
    },
    {
      "cell_type": "code",
      "metadata": {
        "id": "OWGGcBIpjrMu",
        "colab": {
          "base_uri": "https://localhost:8080/"
        },
        "outputId": "a8ab9456-ac6a-4823-a700-7c78d68ef23c"
      },
      "source": [
        "model.summary()"
      ],
      "execution_count": null,
      "outputs": [
        {
          "output_type": "stream",
          "name": "stdout",
          "text": [
            "Model: \"sequential\"\n",
            "_________________________________________________________________\n",
            " Layer (type)                Output Shape              Param #   \n",
            "=================================================================\n",
            " embedding (Embedding)       (None, None, 32)          7202816   \n",
            "                                                                 \n",
            " lstm (LSTM)                 (None, 32)                8320      \n",
            "                                                                 \n",
            " dense (Dense)               (None, 12)                396       \n",
            "                                                                 \n",
            " dense_1 (Dense)             (None, 6)                 78        \n",
            "                                                                 \n",
            "=================================================================\n",
            "Total params: 7,211,610\n",
            "Trainable params: 7,211,610\n",
            "Non-trainable params: 0\n",
            "_________________________________________________________________\n"
          ]
        }
      ]
    },
    {
      "cell_type": "code",
      "metadata": {
        "id": "KKEMjaIulPBe"
      },
      "source": [
        "model.compile(loss=\"binary_crossentropy\",optimizer=\"adam\",metrics=['acc'])"
      ],
      "execution_count": null,
      "outputs": []
    },
    {
      "cell_type": "code",
      "metadata": {
        "id": "iDqnYgZfUf55",
        "colab": {
          "base_uri": "https://localhost:8080/"
        },
        "outputId": "65955155-af59-48ca-8a56-2adef4f4b852"
      },
      "source": [
        "history = model.fit(trainValue, train[['toxic' ,'severe_toxic' ,'obscene' ,'threat' ,'insult' ,'identity_hate']], epochs=3, validation_split=0.2)"
      ],
      "execution_count": null,
      "outputs": [
        {
          "output_type": "stream",
          "name": "stdout",
          "text": [
            "Epoch 1/3\n",
            "3990/3990 [==============================] - 62s 14ms/step - loss: 0.0914 - acc: 0.9885 - val_loss: 0.0656 - val_acc: 0.9941\n",
            "Epoch 2/3\n",
            "3990/3990 [==============================] - 55s 14ms/step - loss: 0.0651 - acc: 0.9941 - val_loss: 0.0643 - val_acc: 0.9941\n",
            "Epoch 3/3\n",
            "3990/3990 [==============================] - 55s 14ms/step - loss: 0.0627 - acc: 0.9940 - val_loss: 0.0638 - val_acc: 0.9941\n"
          ]
        }
      ]
    },
    {
      "cell_type": "code",
      "source": [
        "model.save('toxic_model')"
      ],
      "metadata": {
        "colab": {
          "base_uri": "https://localhost:8080/"
        },
        "id": "SiviF0EtuVQc",
        "outputId": "506241fd-7cac-41bb-8b91-db0778974a02"
      },
      "execution_count": null,
      "outputs": [
        {
          "output_type": "stream",
          "name": "stderr",
          "text": [
            "WARNING:absl:Found untraced functions such as lstm_cell_layer_call_fn, lstm_cell_layer_call_and_return_conditional_losses while saving (showing 2 of 2). These functions will not be directly callable after loading.\n",
            "WARNING:absl:<keras.layers.recurrent.LSTMCell object at 0x7fc5c7cfd650> has the same name 'LSTMCell' as a built-in Keras object. Consider renaming <class 'keras.layers.recurrent.LSTMCell'> to avoid naming conflicts when loading with `tf.keras.models.load_model`. If renaming is not possible, pass the object in the `custom_objects` parameter of the load function.\n"
          ]
        }
      ]
    },
    {
      "cell_type": "code",
      "source": [
        "model = load_model('toxic_model')"
      ],
      "metadata": {
        "id": "K3TEWJCnvPaM"
      },
      "execution_count": null,
      "outputs": []
    },
    {
      "cell_type": "code",
      "source": [
        "test['comment_text'] = process(test['comment_text'])"
      ],
      "metadata": {
        "id": "iCg8BShLvLMs"
      },
      "execution_count": null,
      "outputs": []
    },
    {
      "cell_type": "code",
      "source": [
        "testValue = tok.texts_to_sequences(test['comment_text'])\n",
        "testValue = sequence.pad_sequences(testValue, MAXLEN)"
      ],
      "metadata": {
        "id": "NzQ1s-COyhkM"
      },
      "execution_count": null,
      "outputs": []
    },
    {
      "cell_type": "code",
      "source": [
        "labels = pd.DataFrame(labels,columns=['toxic','severe_toxic','obscene','threat','insult','identity_hate'])"
      ],
      "metadata": {
        "id": "_fDPEgIL3ETE"
      },
      "execution_count": null,
      "outputs": []
    },
    {
      "cell_type": "code",
      "source": [
        "results = model.evaluate(testValue,labels)\n",
        "print(results)"
      ],
      "metadata": {
        "colab": {
          "base_uri": "https://localhost:8080/"
        },
        "id": "yNACzU2GwIw2",
        "outputId": "c1b6a4c2-adb3-429e-dfe3-2a06394ad535"
      },
      "execution_count": null,
      "outputs": [
        {
          "output_type": "stream",
          "name": "stdout",
          "text": [
            "4787/4787 [==============================] - 24s 5ms/step - loss: 3.3168 - acc: 0.9989\n",
            "[3.3168442249298096, 0.9989357590675354]\n"
          ]
        }
      ]
    },
    {
      "cell_type": "code",
      "metadata": {
        "id": "L8nyrr00HPZF",
        "colab": {
          "base_uri": "https://localhost:8080/"
        },
        "outputId": "59df9542-cc33-4a8d-defa-8a2861f3e93f"
      },
      "source": [
        "pred = \"You suck, I hate you and eveything you do, loser\"\n",
        "pred = process([pred])\n",
        "pred = tok.texts_to_sequences(pred)\n",
        "pred = sequence.pad_sequences(pred, MAXLEN)\n",
        "result = model.predict(pred) \n",
        "item = ['toxic','severe_toxic','obscene','threat','insult','identity_hate']\n",
        "for x in range(len(item)):\n",
        "  print(item[x],\":\",result[0][x]*100)\n"
      ],
      "execution_count": null,
      "outputs": [
        {
          "output_type": "stream",
          "name": "stdout",
          "text": [
            "toxic : 97.54629731178284\n",
            "severe_toxic : 6.597927957773209\n",
            "obscene : 77.16081738471985\n",
            "threat : 1.2690991163253784\n",
            "insult : 52.255779504776\n",
            "identity_hate : 6.349198520183563\n"
          ]
        }
      ]
    }
  ]
}